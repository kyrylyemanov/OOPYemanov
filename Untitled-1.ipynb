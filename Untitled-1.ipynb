{
 "cells": [
  {
   "cell_type": "code",
   "execution_count": null,
   "id": "f2e5a198",
   "metadata": {},
   "outputs": [],
   "source": [
    "from datetime import datetime\n",
    "name = \"Kyryl\"\n",
    "location = \"Lviv\"\n",
    "\n",
    "print(f\"{name} start programming at {datetime.now()}. {location} is the best city!\")\n",
    "\n",
    "\n",
    "\"Enter interpreter path C:\\Users\\emano\\AppData\\Local\\Microsoft\\WindowsApps\""
   ]
  }
 ],
 "metadata": {
  "language_info": {
   "name": "python"
  }
 },
 "nbformat": 4,
 "nbformat_minor": 5
}
